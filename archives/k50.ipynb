{
 "cells": [
  {
   "cell_type": "code",
   "execution_count": 39,
   "metadata": {},
   "outputs": [],
   "source": [
    "import pandas as pd\n",
    "\n",
    "lookup = pd.read_excel('bieuthue (1).xlsx', sheet_name='Sheet1', converters={'A': str, 'B': str, 'C': str})\n",
    "result = pd.read_excel('bieuthue (1).xlsx', sheet_name='EN', header=1)\n",
    "\n",
    "list_to_insert = []\n",
    "\n",
    "for index, row in enumerate(zip(lookup['B'], lookup['C'])):\n",
    "    serie = result.loc[(result['hs']) == row[0]].iloc[0]\n",
    "    serie['dashes'] = 1\n",
    "    try:\n",
    "        serie['title'] = '- ' + serie['title']\n",
    "    except TypeError:\n",
    "        pass\n",
    "    serie['hs'] = row[1]\n",
    "    list_to_insert.append((serie['id'], serie))\n",
    "\n",
    "list_to_insert = sorted(list_to_insert, key=lambda x: x[0], reverse=False)\n",
    "columns = result.columns\n",
    "\n",
    "for count, serie in enumerate(list_to_insert):\n",
    "    list_values = [x for x in serie[1]]\n",
    "    position = serie[0] + count\n",
    "    new_df = pd.DataFrame([list_values], columns=columns)\n",
    "    result = pd.concat(\n",
    "            [\n",
    "                (result.iloc[:position]), \n",
    "                new_df, \n",
    "                (result.iloc[position:])\n",
    "            ]\n",
    "        )"
   ]
  }
 ],
 "metadata": {
  "interpreter": {
   "hash": "07848780a58b79594e764c069cbda879259c8dd4f8d3e2f88df491e961ef6dc8"
  },
  "kernelspec": {
   "display_name": "Python 3.10.1 64-bit ('env': venv)",
   "language": "python",
   "name": "python3"
  },
  "language_info": {
   "codemirror_mode": {
    "name": "ipython",
    "version": 3
   },
   "file_extension": ".py",
   "mimetype": "text/x-python",
   "name": "python",
   "nbconvert_exporter": "python",
   "pygments_lexer": "ipython3",
   "version": "3.10.1"
  },
  "orig_nbformat": 4
 },
 "nbformat": 4,
 "nbformat_minor": 2
}
