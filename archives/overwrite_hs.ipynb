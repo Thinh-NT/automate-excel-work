{
 "cells": [
  {
   "cell_type": "code",
   "execution_count": null,
   "metadata": {},
   "outputs": [],
   "source": [
    "import pandas as pd\n",
    "import json\n",
    "\n",
    "pd.set_option('display.max_columns', 20)\n",
    "pd.set_option('display.max_rows', 20)\n",
    "\n",
    "with open('en_data2.json') as json_file:\n",
    "    data = json.load(json_file)\n",
    "\n",
    "\n",
    "# Get HS\n",
    "bst = pd.read_excel('BIEU-THUE-XNK-2021.06.22.xlsx', header=4, converters={'B':str, 'C':str, 'D': str})\n",
    "bst = bst[['B', 'C', 'D']]\n",
    "\n",
    "bst.drop(bst[pd.isna(bst['B']) & pd.isna(bst['C'])].index, inplace = True)\n",
    "\n",
    "\n",
    "def remove_useless_end(row):\n",
    "    if str(row['B']).endswith('00'):\n",
    "        return str(row['B'])[:-2]\n",
    "    else:\n",
    "        return row['B']\n",
    "\n",
    "bst['B'] = bst.apply(lambda row: remove_useless_end(row), axis=1)\n",
    "\n",
    "bst['temp'] = bst['B'].shift(-1)\n",
    "bst['temp'] = bst['temp'].astype(str)\n",
    "\n",
    "\n",
    "def remove_useless_temp(row):\n",
    "    if str(row['temp']).endswith('0'):\n",
    "        return str(row['temp'])[:-1]\n",
    "    else:\n",
    "        return row['temp']\n",
    "\n",
    "bst['temp'] = bst.apply(lambda row: remove_useless_temp(row), axis=1)\n",
    "\n",
    "\n",
    "def get_hs5(row):\n",
    "    result = row['B']\n",
    "    # if re.match('- ([a-zA-Z0-9])\\w+', row['D']) and pd.isna(row['B']):\n",
    "    #     result = row['temp'][0:5]\n",
    "    if str(row['D']).startswith('- ') and pd.isna(row['B']):\n",
    "        result = row['temp'][0:-1]\n",
    "    else:\n",
    "        result = row['B']\n",
    "    return result\n",
    "\n",
    "bst['B'] = bst.apply(lambda row: get_hs5(row), axis=1)\n"
   ]
  },
  {
   "cell_type": "code",
   "execution_count": null,
   "metadata": {},
   "outputs": [],
   "source": [
    "headings_lst = [heading for heading in bst['B'].unique() if len(str(heading)) == 4]"
   ]
  },
  {
   "cell_type": "code",
   "execution_count": null,
   "metadata": {},
   "outputs": [],
   "source": [
    "for section in data:\n",
    "    for chapter in section['chapters']:\n",
    "        for heading in chapter['headings']:\n",
    "            for hs6 in heading['hs6']:\n",
    "                hs6['id'] = hs6['id'].split('-')[0]\n",
    "                if hs6['id'][4] != '.':\n",
    "                    hs6['id'] = hs6['id'][:4] + '.' + hs6['id'][4:]\n",
    "                try:\n",
    "                    hs_to_lookup = ''.join(hs6['id'].split('.'))\n",
    "                    hs_to_lookup = ''.join(hs_to_lookup.split(' '))\n",
    "                    hs6['title'] = bst.loc[(bst['B']) == hs_to_lookup, ['C']].iloc[0]['C']\n",
    "                except IndexError:\n",
    "                    try:\n",
    "                        hs6['title'] = bst.loc[(bst['B']) == hs_to_lookup + '0', ['C']].iloc[0]['C']\n",
    "                    except IndexError:\n",
    "                        if hs_to_lookup.endswith('-') or hs_to_lookup.endswith('0'):\n",
    "                            try:\n",
    "                                hs6['title'] = bst.loc[(bst['B']) == hs_to_lookup[:-1], ['C']].iloc[0]['C']\n",
    "                            except IndexError:\n",
    "                                print(hs_to_lookup)\n",
    "                        else:\n",
    "                            try:\n",
    "                                hs6['title'] = bst.loc[(bst['B']) == hs_to_lookup.split('-')[0], ['C']].iloc[0]['C']\n",
    "                            except IndexError:\n",
    "                                print(hs_to_lookup)\n",
    "                "
   ]
  }
 ],
 "metadata": {
  "interpreter": {
   "hash": "07848780a58b79594e764c069cbda879259c8dd4f8d3e2f88df491e961ef6dc8"
  },
  "kernelspec": {
   "display_name": "Python 3.9.6 64-bit ('env': venv)",
   "language": "python",
   "name": "python3"
  },
  "language_info": {
   "codemirror_mode": {
    "name": "ipython",
    "version": 3
   },
   "file_extension": ".py",
   "mimetype": "text/x-python",
   "name": "python",
   "nbconvert_exporter": "python",
   "pygments_lexer": "ipython3",
   "version": "3.10.1"
  },
  "orig_nbformat": 4
 },
 "nbformat": 4,
 "nbformat_minor": 2
}
