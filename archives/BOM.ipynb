{
 "cells": [
  {
   "cell_type": "code",
   "execution_count": 4,
   "metadata": {},
   "outputs": [],
   "source": [
    "import pandas as pd\n",
    "import numpy as np\n",
    "from os import walk\n",
    "\n",
    "pd.set_option('display.max_columns', 30)\n",
    "pd.set_option('display.max_rows', 40)\n",
    "path = '../data/HISTORY BOM'\n",
    "output_url = '../output/history_bom.xlsx'\n",
    "file_names = next(walk(path), (None, None, []))[2]\n",
    "file_names = [f'{path}/{x}' for x in file_names]\n",
    "\n",
    "errors = []\n",
    "for x in file_names:\n",
    "    try:\n",
    "        pd.read_excel(x, header=1)\n",
    "    except KeyError:\n",
    "        errors.append(x)\n",
    "\n",
    "file_names = [x for x in file_names if x not in errors]\n",
    "dfs = [pd.read_excel(x, header=1) for x in file_names]\n",
    "\n",
    "errors = [(x.split('/')[-1]) for x in errors]\n",
    "\n",
    "bom = pd.concat(dfs)\n",
    "\n",
    "bom.to_excel('../output/HISTORY.xlsx')\n",
    "\n",
    "bom = bom.loc[~pd.isna(bom['Line'])]\n",
    "\n",
    "del bom['Unnamed: 0']\n",
    "\n",
    "# Create level\n",
    "bom['Line'] = bom['Line'].astype(str)\n",
    "bom['Line'] = bom['Line'].str[-1]\n",
    "bom['Line'] = pd.to_numeric(bom['Line'])\n",
    "\n",
    "bom = bom[['Line', 'Component', 'Description', 'Specification' ,'Unit', 'Quantity']]\n",
    "\n",
    "def find_if_item_is_child(row):\n",
    "    if row['Line'] > 0:\n",
    "        return True\n",
    "bom['is_child'] = bom.apply(lambda row: find_if_item_is_child(row), axis=1)\n",
    "def create_columns(row, i):\n",
    "    if row['Line'] == i:\n",
    "        return row['Component']\n",
    "for i in bom['Line'].unique():\n",
    "    bom[i] = bom.apply(lambda row: create_columns(row, i), axis=1)\n",
    "\n",
    "bom.ffill(inplace=True)\n",
    "\n",
    "def fill_father_name(row):\n",
    "    if row['is_child'] and row['Line'] > 0:\n",
    "        return row[row['Line'] - 1]\n",
    "\n",
    "bom['father'] = bom.apply(lambda row: fill_father_name(row), axis=1)\n",
    "bom['Product'] = bom[0]\n",
    "for i in bom['Line'].unique():\n",
    "    del bom[i]\n",
    "\n",
    "bom.to_excel(output_url)\n"
   ]
  }
 ],
 "metadata": {
  "interpreter": {
   "hash": "0171f5b0cde5d5b5cb625450b6c85a97936af2366b7d63a942c5e5929a1ed776"
  },
  "kernelspec": {
   "display_name": "Python 3.10.1 ('env': venv)",
   "language": "python",
   "name": "python3"
  },
  "language_info": {
   "codemirror_mode": {
    "name": "ipython",
    "version": 3
   },
   "file_extension": ".py",
   "mimetype": "text/x-python",
   "name": "python",
   "nbconvert_exporter": "python",
   "pygments_lexer": "ipython3",
   "version": "3.10.1"
  },
  "orig_nbformat": 4
 },
 "nbformat": 4,
 "nbformat_minor": 2
}
